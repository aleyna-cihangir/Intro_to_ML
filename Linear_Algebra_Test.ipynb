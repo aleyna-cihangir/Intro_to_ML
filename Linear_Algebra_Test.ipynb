{
  "nbformat": 4,
  "nbformat_minor": 0,
  "metadata": {
    "colab": {
      "name": "Linear_Algebra_Test.ipynb",
      "provenance": [],
      "authorship_tag": "ABX9TyNebxw5npQRzqRRWJbE0W3N"
    },
    "kernelspec": {
      "name": "python3",
      "display_name": "Python 3"
    },
    "language_info": {
      "name": "python"
    }
  },
  "cells": [
    {
      "cell_type": "code",
      "metadata": {
        "id": "s1RjPitvwZrh"
      },
      "source": [
        "import numpy as np\n",
        "from scipy import linalg"
      ],
      "execution_count": 2,
      "outputs": []
    },
    {
      "cell_type": "code",
      "metadata": {
        "colab": {
          "base_uri": "https://localhost:8080/"
        },
        "id": "dXn-ndFZxPTi",
        "outputId": "8abcedca-915d-4059-b193-2b523ee355f4"
      },
      "source": [
        "A = np.random.randint(20, size=(3,3))\n",
        "A"
      ],
      "execution_count": 38,
      "outputs": [
        {
          "output_type": "execute_result",
          "data": {
            "text/plain": [
              "array([[13, 19,  7],\n",
              "       [ 2, 15,  6],\n",
              "       [14, 10, 15]])"
            ]
          },
          "metadata": {
            "tags": []
          },
          "execution_count": 38
        }
      ]
    },
    {
      "cell_type": "code",
      "metadata": {
        "colab": {
          "base_uri": "https://localhost:8080/"
        },
        "id": "YN9yjOa_222q",
        "outputId": "6f8c8907-a01f-4e25-e535-4f9e675c17bd"
      },
      "source": [
        "# Inverse of matrix :\n",
        "linalg.inv(A)"
      ],
      "execution_count": 39,
      "outputs": [
        {
          "output_type": "execute_result",
          "data": {
            "text/plain": [
              "array([[ 0.0896252 , -0.11678436,  0.00488865],\n",
              "       [ 0.02933188,  0.05268876, -0.03476372],\n",
              "       [-0.10320478,  0.0738729 ,  0.08527974]])"
            ]
          },
          "metadata": {
            "tags": []
          },
          "execution_count": 39
        }
      ]
    },
    {
      "cell_type": "code",
      "metadata": {
        "colab": {
          "base_uri": "https://localhost:8080/"
        },
        "id": "QKuQbJo_yUl6",
        "outputId": "b252338b-c5a3-400f-efbf-78e039bb1795"
      },
      "source": [
        "# Dot product of two arrays :\n",
        "A.dot(linalg.inv(A)) "
      ],
      "execution_count": 12,
      "outputs": [
        {
          "output_type": "execute_result",
          "data": {
            "text/plain": [
              "array([[ 1.00000000e+00,  0.00000000e+00,  0.00000000e+00],\n",
              "       [ 0.00000000e+00,  1.00000000e+00, -2.08166817e-17],\n",
              "       [ 0.00000000e+00,  3.46944695e-18,  1.00000000e+00]])"
            ]
          },
          "metadata": {
            "tags": []
          },
          "execution_count": 12
        }
      ]
    },
    {
      "cell_type": "markdown",
      "metadata": {
        "id": "VCHOOEqozdcm"
      },
      "source": [
        "**Solving Linear System :**"
      ]
    },
    {
      "cell_type": "code",
      "metadata": {
        "colab": {
          "base_uri": "https://localhost:8080/"
        },
        "id": "Jb3_OMHcyqOG",
        "outputId": "1034891d-953c-4340-a9a7-396de9119a6e"
      },
      "source": [
        "B = np.array([3,2,5])\n",
        "B"
      ],
      "execution_count": 15,
      "outputs": [
        {
          "output_type": "execute_result",
          "data": {
            "text/plain": [
              "array([3, 2, 5])"
            ]
          },
          "metadata": {
            "tags": []
          },
          "execution_count": 15
        }
      ]
    },
    {
      "cell_type": "code",
      "metadata": {
        "colab": {
          "base_uri": "https://localhost:8080/"
        },
        "id": "LZaD3k_JzC1n",
        "outputId": "05196bfc-e8ab-44a2-df7e-ec4c913a947c"
      },
      "source": [
        "linalg.inv(A).dot(B) # slow proc."
      ],
      "execution_count": 16,
      "outputs": [
        {
          "output_type": "execute_result",
          "data": {
            "text/plain": [
              "array([ 3.        , -0.44897959, -1.78911565])"
            ]
          },
          "metadata": {
            "tags": []
          },
          "execution_count": 16
        }
      ]
    },
    {
      "cell_type": "code",
      "metadata": {
        "colab": {
          "base_uri": "https://localhost:8080/"
        },
        "id": "8vyX6BC3zITi",
        "outputId": "d96479e1-0bc0-4ee4-a355-7faa79a12232"
      },
      "source": [
        "linalg.solve(A,B) # fast proc."
      ],
      "execution_count": 17,
      "outputs": [
        {
          "output_type": "execute_result",
          "data": {
            "text/plain": [
              "array([ 3.        , -0.44897959, -1.78911565])"
            ]
          },
          "metadata": {
            "tags": []
          },
          "execution_count": 17
        }
      ]
    },
    {
      "cell_type": "markdown",
      "metadata": {
        "id": "hr0ytAQhzhKd"
      },
      "source": [
        "**Eigen Values - Eigen Vectors :**"
      ]
    },
    {
      "cell_type": "code",
      "metadata": {
        "colab": {
          "base_uri": "https://localhost:8080/"
        },
        "id": "vD5WlNPizY6l",
        "outputId": "a56e5fdb-5bf8-4a6f-fc2f-0559d81b8a4b"
      },
      "source": [
        "eigvalue, eigvector = linalg.eig(A)\n",
        "print(eigvalue,\"\\n\", eigvector)"
      ],
      "execution_count": 24,
      "outputs": [
        {
          "output_type": "stream",
          "text": [
            "[21.+0.j 14.+0.j  1.+0.j] \n",
            " [[ 0.          0.          0.80214827]\n",
            " [ 0.6         0.70710678 -0.14191854]\n",
            " [ 0.8        -0.70710678 -0.5800149 ]]\n"
          ],
          "name": "stdout"
        }
      ]
    },
    {
      "cell_type": "markdown",
      "metadata": {
        "id": "lFdMFaX10sDK"
      },
      "source": [
        "**Singular Value Decomposition (SVD) :**\n",
        "\n",
        "can be thought of as an extension of the eigenvalue problem to matrices that are not square."
      ]
    },
    {
      "cell_type": "code",
      "metadata": {
        "colab": {
          "base_uri": "https://localhost:8080/"
        },
        "id": "cATM-_4G03mW",
        "outputId": "6e444571-dccb-4592-e610-d9187fe82ba0"
      },
      "source": [
        "A = np.random.randint(20, size=(2,3))\n",
        "M,N = A.shape\n",
        "linalg.svd(A) # we have 3 arrays"
      ],
      "execution_count": 32,
      "outputs": [
        {
          "output_type": "execute_result",
          "data": {
            "text/plain": [
              "(array([[-0.76451416, -0.64460693],\n",
              "        [-0.64460693,  0.76451416]]),\n",
              " array([29.53179205,  4.45794328]),\n",
              " array([[-0.15126673, -0.85887709, -0.48933477],\n",
              "        [-0.55149209,  0.48415381, -0.67930225],\n",
              "        [-0.82035044, -0.16710842,  0.54690029]]))"
            ]
          },
          "metadata": {
            "tags": []
          },
          "execution_count": 32
        }
      ]
    },
    {
      "cell_type": "code",
      "metadata": {
        "id": "rpnKloRJ1nwE"
      },
      "source": [
        "# U :Unitary matrix having left singular vectors as columns. (ndarray)\n",
        "# s :The singular values, sorted in non-increasing order. (ndarray)\n",
        "# Vh:Unitary matrix having right singular vectors as rows. (ndarray)\n",
        "\n",
        "U, s, Vh = linalg.svd(A)"
      ],
      "execution_count": 34,
      "outputs": []
    },
    {
      "cell_type": "code",
      "metadata": {
        "colab": {
          "base_uri": "https://localhost:8080/"
        },
        "id": "jZnxBWdQ2RSa",
        "outputId": "98c1b792-4f01-4418-9433-d70052b93645"
      },
      "source": [
        "# Construct the sigma matrix in SVD from singular values and size MxN\n",
        "sig = linalg.diagsvd(s,M,N)\n",
        "sig"
      ],
      "execution_count": 35,
      "outputs": [
        {
          "output_type": "execute_result",
          "data": {
            "text/plain": [
              "array([[29.53179205,  0.        ,  0.        ],\n",
              "       [ 0.        ,  4.45794328,  0.        ]])"
            ]
          },
          "metadata": {
            "tags": []
          },
          "execution_count": 35
        }
      ]
    },
    {
      "cell_type": "code",
      "metadata": {
        "colab": {
          "base_uri": "https://localhost:8080/"
        },
        "id": "4J4kmdek2q3Z",
        "outputId": "4cad3d94-b168-4a24-c721-b96a9519625f"
      },
      "source": [
        "#check computation\n",
        "U.dot(sig.dot(Vh))"
      ],
      "execution_count": 37,
      "outputs": [
        {
          "output_type": "execute_result",
          "data": {
            "text/plain": [
              "array([[ 5., 18., 13.],\n",
              "       [ 1., 18.,  7.]])"
            ]
          },
          "metadata": {
            "tags": []
          },
          "execution_count": 37
        }
      ]
    }
  ]
}